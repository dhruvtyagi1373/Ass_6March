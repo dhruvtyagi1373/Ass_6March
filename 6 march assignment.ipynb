{
 "cells": [
  {
   "cell_type": "markdown",
   "metadata": {},
   "source": [
    "## Q1. What is Statistics?"
   ]
  },
  {
   "cell_type": "markdown",
   "id": "cde03187-318d-4a31-b3f9-7e81b04980bc",
   "metadata": {},
   "source": [
    "Statistics is a field of study that involves the collection, analysis, interpretation, presentation, and organization of data. It encompasses various methods and techniques used to gather, summarize, and draw conclusions from data, with the aim of understanding and describing patterns, relationships, and trends within a given population or sample."
   ]
  },
  {
   "cell_type": "markdown",
   "id": "a4a97f4d-efcc-46a5-bfe0-51da1f1e2066",
   "metadata": {},
   "source": [
    "## Q2. Define the different types of statistics and give an example of when each type might be used."
   ]
  },
  {
   "cell_type": "markdown",
   "id": "7f73cd9e-ff1d-4b48-a07a-5033ffc5a676",
   "metadata": {},
   "source": [
    "There are two types of statistics-descriptive statistics and inferential statistics.\n",
    "Descriptive statistics is the process of collecting and organizing data, it includes mean, median, mode, standard devaition, variance etc while inferential statistics is a process of concluding the data you have measured in descriptive statistics which includes z-test, t-test etc.\n",
    "For example,\n",
    "DESCRIPTIVE QUESTION\n",
    "What is the average height of students?\n",
    "INFERENTIAL QUESTION\n",
    "Is the sample(descriptive) height is what you expected in population data?\n",
    "SAMPLE IS THE SUBSET OF POPULATION."
   ]
  },
  {
   "cell_type": "markdown",
   "id": "fbd5d0bb-c4a4-4198-984a-a46a81b0acfc",
   "metadata": {},
   "source": [
    "## Q3. What are the different types of data and how do they differ from each other? Provide an example of each type of data."
   ]
  },
  {
   "cell_type": "markdown",
   "id": "4e32d2ed-76a2-46bb-885c-e7ba5f1c6b71",
   "metadata": {},
   "source": [
    "Data is divided into two types:-\n",
    "1. Quantitative- It is of numerical type and all the numeric caluculations are included in these.\n",
    "2. Qualitative-It basically consists of categorical data.\n",
    "\n",
    "And furthur quantitative data is divided into two types:-\n",
    "\n",
    "1. Discreet- It consists of a whole number.For example, Number of children in a famiy.\n",
    "2. continuous- It consists of  any value that is continuous.For example, weight, height, temperature.\n",
    "And furthur qualitative data is divided into two types:-\n",
    "\n",
    "1. Nominal-It is categorical in which order does not matter.For example gender or blood group or pincode.\n",
    "2. Ordinal-It defines the rank of something in which order does matters.For example, good,better,best."
   ]
  },
  {
   "cell_type": "markdown",
   "id": "dae89c97-afad-4d0b-be02-79136506ed1a",
   "metadata": {},
   "source": [
    "## Q4. Categorise the following datasets with respect to quantitative and qualitative data types:\n",
    "## (i) Grading in exam: A+, A, B+, B, C+, C, D, E\n",
    "## (ii) Colour of mangoes: yellow, green, orange, red\n",
    "## (iii) Height data of a class: [178.9, 179, 179.5, 176, 177.2, 178.3, 175.8,...]\n",
    "## (iv) Number of mangoes exported by a farm: [500, 600, 478, 672, ...]"
   ]
  },
  {
   "cell_type": "markdown",
   "id": "e306885a-f91d-4daa-b705-6113fbaa35bc",
   "metadata": {},
   "source": [
    "1.Qualitative-Ordinal\n",
    "2.Qualitative-Nominal\n",
    "3.Quantitative-Continuous\n",
    "4.Quantitative-Discreet"
   ]
  },
  {
   "cell_type": "markdown",
   "id": "e8cf5a2a-56f2-47c1-9c62-f1b6c2b4b4fe",
   "metadata": {},
   "source": [
    "## Q5. Explain the concept of levels of measurement and give an example of a variable for each level."
   ]
  },
  {
   "cell_type": "markdown",
   "id": "abdbabbe-2a73-4e81-9609-66a95237629c",
   "metadata": {},
   "source": [
    "Nominal scale data\n",
    "-It defines categorical data\n",
    "-Order does not matter\n",
    "-It is qualitative\n",
    "-For example-gender,pincode\n",
    "\n",
    "Ordinal scale data\n",
    "-It defines rank\n",
    "-Order matters\n",
    "-For example- good better best survery, customer feedback\n",
    "\n",
    "Interval scale data\n",
    "-Order matters\n",
    "-No '0' starting point\n",
    "-Difference can be measured.\n",
    "-Ratio cannot be measured\n",
    "-For example-Temperature varaible\n",
    "\n",
    "Ratio scale data\n",
    "-Order matters\n",
    "-Ratio can be measured\n",
    "-'0' starting point is present\n",
    "-Difference can be measured.\n",
    "-For example-Marks of a student in class"
   ]
  },
  {
   "cell_type": "markdown",
   "id": "5a53e50c-512c-450c-b543-a00e23a75af4",
   "metadata": {},
   "source": [
    "## Q6. Why is it important to understand the level of measurement when analyzing data? Provide an example to illustrate your answer."
   ]
  },
  {
   "cell_type": "markdown",
   "id": "5318ae1f-c7e5-44e2-974d-b31ad90d458a",
   "metadata": {},
   "source": [
    "Understanding the level of measurement is crucial when analyzing data because it determines the mathematical operations that can be applied to the data, the types of statistical analyses that are appropriate, and the interpretations that can be made from the results. Different levels of measurement have distinct properties and limitations, and recognizing these distinctions helps researchers choose appropriate analytical techniques and draw accurate conclusions."
   ]
  },
  {
   "cell_type": "markdown",
   "id": "16a8f899-2fa3-434d-8e40-1e2542086f90",
   "metadata": {},
   "source": [
    "Suppose we are analyzing customer satisfaction data for a retail store and have collected responses on a scale from 1 to 5: 1 (very dissatisfied), 2 (dissatisfied), 3 (neutral), 4 (satisfied), and 5 (very satisfied). Let's say we have data from 100 customers:\n",
    "\n",
    "Customer 1: 5 (very satisfied)\n",
    "Customer 2: 4 (satisfied)\n",
    "...\n",
    "Customer 100: 2 (dissatisfied)\n",
    "\n",
    "Now, if we treat this data as interval or ratio level data and calculate the average customer satisfaction, we might assign numerical values to the responses (1 to 5) and compute the mean as (1+2+3+4+5)/5 = 3. Using this approach, we conclude that the average customer satisfaction is neutral (3), assuming an equal interval between each category.\n",
    "\n",
    "However, since the data is actually ordinal (customers rated their satisfaction level, but the differences between ratings may not be equal), calculating the mean in this way is not appropriate and could lead to a misleading conclusion. In reality, the average customer satisfaction may be closer to the satisfied end of the scale (around 4) since most customers provided higher ratings.\n",
    "To properly analyze this data, we should use non-parametric tests suitable for ordinal data, such as the median or mode, which are more appropriate for understanding central tendencies in this case."
   ]
  },
  {
   "cell_type": "markdown",
   "metadata": {},
   "source": [
    "## Q7. How nominal data type is different from ordinal data type."
   ]
  },
  {
   "cell_type": "markdown",
   "metadata": {},
   "source": [
    "Nominal scale data\n",
    "-It defines categorical data\n",
    "-Order does not matter\n",
    "-It is qualitative\n",
    "-For example-gender,pincode\n",
    "\n",
    "Ordinal scale data\n",
    "-It defines rank\n",
    "-Order matters\n",
    "-For example- good better best survery, customer feedback\n",
    "\n",
    "Interval scale data\n",
    "-Order matters\n",
    "-No '0' starting point\n",
    "-Difference can be measured.\n",
    "-Ratio cannot be measured\n",
    "-For example-Temperature varaible\n",
    "\n",
    "Ratio scale data\n",
    "-Order matters\n",
    "-Ratio can be measured\n",
    "-'0' starting point is present\n",
    "-Difference can be measured.\n",
    "-For example-Marks of a student in class"
   ]
  },
  {
   "cell_type": "markdown",
   "id": "dda0395a-9e9d-44cc-8b1e-aa0908c0e033",
   "metadata": {},
   "source": [
    "## Q8. Which type of plot can be used to display data in terms of range?"
   ]
  },
  {
   "cell_type": "markdown",
   "id": "03a682fe-e337-47de-8708-81f858b3793b",
   "metadata": {},
   "source": [
    "A box plot, also known as a box-and-whisker plot, is commonly used to display data in terms of range. A box plot provides a visual representation of the minimum, maximum, median, and quartiles of a dataset. It effectively summarizes the distribution and variability of the data."
   ]
  },
  {
   "cell_type": "markdown",
   "metadata": {},
   "source": [
    "## Q9. Describe the difference between descriptive and inferential statistics. Give an example of each type of statistics and explain how they are used."
   ]
  },
  {
   "cell_type": "markdown",
   "metadata": {},
   "source": [
    "There are two types of statistics-descriptive statistics and inferential statistics.\n",
    "Descriptive statistics is the process of collecting and organizing data, it includes mean, median, mode, standard devaition, variance etc while inferential statistics is a process of concluding the data you have measured in descriptive statistics which includes z-test, t-test etc.\n",
    "For example,\n",
    "DESCRIPTIVE QUESTION\n",
    "What is the average height of students?\n",
    "INFERENTIAL QUESTION\n",
    "Is the sample(descriptive) height is what you expected in population data?\n",
    "SAMPLE IS THE SUBSET OF POPULATION."
   ]
  },
  {
   "cell_type": "markdown",
   "id": "db0b5daf-6451-4822-852c-a94c04b5ed5d",
   "metadata": {},
   "source": [
    "## Q10. What are some common measures of central tendency and variability used in statistics? Explain how each measure can be used to describe a dataset."
   ]
  },
  {
   "cell_type": "markdown",
   "id": "e23d7e55-a465-4fd0-9856-3131835082b6",
   "metadata": {},
   "source": [
    "In statistics, there are several common measures of central tendency and variability used to describe a dataset. These measures provide valuable insights into the typical or average value of the data and how spread out or clustered the values are. Let's explore each measure and its role in describing a dataset:\n",
    "\n",
    "Measures of Central Tendency:\n",
    "\n",
    "Mean: The mean is the most widely used measure of central tendency. It is calculated by summing all the values in the dataset and dividing the sum by the total number of values. The mean represents the average value of the data and provides a measure of the center. It is sensitive to extreme values and can be affected by outliers.\n",
    "\n",
    "Median: The median is the middle value in a dataset when the values are arranged in ascending or descending order. If the dataset has an odd number of values, the median is the middle value. If the dataset has an even number of values, the median is the average of the two middle values. The median is a robust measure that is less influenced by extreme values and outliers compared to the mean. It represents the value that splits the dataset into two equal halves.\n",
    "\n",
    "Mode: The mode is the value or values that occur most frequently in a dataset. It represents the most common or dominant value(s) in the dataset. Unlike the mean and median, the mode can be used for both numerical and categorical data. In some cases, a dataset may have multiple modes or no mode at all.\n",
    "\n",
    "Measures of Variability:\n",
    "\n",
    "Range: The range is the simplest measure of variability and is calculated by taking the difference between the maximum and minimum values in a dataset. It provides a measure of the spread between the extreme values. However, the range is highly influenced by outliers and does not provide information about the distribution of values within the dataset.\n",
    "\n",
    "Variance: Variance measures the average squared deviation of each value from the mean. It quantifies the spread or dispersion of the data. A higher variance indicates greater variability, while a lower variance indicates less variability. However, the variance is not on the same scale as the original data, making it less interpretable.\n",
    "\n",
    "Standard Deviation: The standard deviation is the square root of the variance. It is widely used because it is on the same scale as the original data and provides a measure of spread that is easier to interpret. A higher standard deviation indicates greater variability, while a lower standard deviation indicates less variability. Like variance, the standard deviation is influenced by outliers.\n",
    "\n",
    "Interquartile Range (IQR): The IQR is the range between the first quartile (Q1) and the third quartile (Q3) of a dataset. It represents the spread of the middle 50% of the data. The IQR is robust against outliers and provides a measure of variability that is less affected by extreme values."
   ]
  },
  {
   "cell_type": "code",
   "execution_count": null,
   "id": "4a6444a8-6730-417b-bbba-83ea58346d2f",
   "metadata": {},
   "outputs": [],
   "source": []
  }
 ],
 "metadata": {
  "kernelspec": {
   "display_name": "Python 3 (ipykernel)",
   "language": "python",
   "name": "python3"
  },
  "language_info": {
   "codemirror_mode": {
    "name": "ipython",
    "version": 3
   },
   "file_extension": ".py",
   "mimetype": "text/x-python",
   "name": "python",
   "nbconvert_exporter": "python",
   "pygments_lexer": "ipython3",
   "version": "3.10.8"
  }
 },
 "nbformat": 4,
 "nbformat_minor": 5
}
